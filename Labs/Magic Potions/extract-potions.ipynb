{
 "cells": [
  {
   "cell_type": "code",
   "execution_count": 1,
   "metadata": {},
   "outputs": [
    {
     "ename": "AttributeError",
     "evalue": "'NoneType' object has no attribute 'select'",
     "output_type": "error",
     "traceback": [
      "\u001b[1;31m---------------------------------------------------------------------------\u001b[0m",
      "\u001b[1;31mAttributeError\u001b[0m                            Traceback (most recent call last)",
      "\u001b[1;32mc:\\Projects\\4DotNet\\DevDay2023\\Labs\\Magic Potions\\extract-potions.ipynb Cell 1\u001b[0m line \u001b[0;36m3\n\u001b[0;32m     <a href='vscode-notebook-cell:/c%3A/Projects/4DotNet/DevDay2023/Labs/Magic%20Potions/extract-potions.ipynb#W0sZmlsZQ%3D%3D?line=30'>31</a>\u001b[0m page \u001b[39m=\u001b[39m requests\u001b[39m.\u001b[39mget(baseUrl\u001b[39m+\u001b[39mpotionsUrl)\n\u001b[0;32m     <a href='vscode-notebook-cell:/c%3A/Projects/4DotNet/DevDay2023/Labs/Magic%20Potions/extract-potions.ipynb#W0sZmlsZQ%3D%3D?line=31'>32</a>\u001b[0m soup \u001b[39m=\u001b[39m BeautifulSoup(page\u001b[39m.\u001b[39mcontent, \u001b[39m\"\u001b[39m\u001b[39mhtml.parser\u001b[39m\u001b[39m\"\u001b[39m)\n\u001b[1;32m---> <a href='vscode-notebook-cell:/c%3A/Projects/4DotNet/DevDay2023/Labs/Magic%20Potions/extract-potions.ipynb#W0sZmlsZQ%3D%3D?line=33'>34</a>\u001b[0m potions\u001b[39m=\u001b[39mextractList(soup)\n\u001b[0;32m     <a href='vscode-notebook-cell:/c%3A/Projects/4DotNet/DevDay2023/Labs/Magic%20Potions/extract-potions.ipynb#W0sZmlsZQ%3D%3D?line=34'>35</a>\u001b[0m \u001b[39mprint\u001b[39m(\u001b[39m\"\u001b[39m\u001b[39m-- Potions --\u001b[39m\u001b[39m\"\u001b[39m)\n\u001b[0;32m     <a href='vscode-notebook-cell:/c%3A/Projects/4DotNet/DevDay2023/Labs/Magic%20Potions/extract-potions.ipynb#W0sZmlsZQ%3D%3D?line=35'>36</a>\u001b[0m \u001b[39mfor\u001b[39;00m x \u001b[39min\u001b[39;00m \u001b[39mrange\u001b[39m(\u001b[39mlen\u001b[39m(potions)):\n",
      "\u001b[1;32mc:\\Projects\\4DotNet\\DevDay2023\\Labs\\Magic Potions\\extract-potions.ipynb Cell 1\u001b[0m line \u001b[0;36m1\n\u001b[0;32m     <a href='vscode-notebook-cell:/c%3A/Projects/4DotNet/DevDay2023/Labs/Magic%20Potions/extract-potions.ipynb#W0sZmlsZQ%3D%3D?line=15'>16</a>\u001b[0m listItems\u001b[39m=\u001b[39m[]\n\u001b[0;32m     <a href='vscode-notebook-cell:/c%3A/Projects/4DotNet/DevDay2023/Labs/Magic%20Potions/extract-potions.ipynb#W0sZmlsZQ%3D%3D?line=16'>17</a>\u001b[0m \u001b[39mfor\u001b[39;00m tab \u001b[39min\u001b[39;00m tab_elements:\n\u001b[1;32m---> <a href='vscode-notebook-cell:/c%3A/Projects/4DotNet/DevDay2023/Labs/Magic%20Potions/extract-potions.ipynb#W0sZmlsZQ%3D%3D?line=17'>18</a>\u001b[0m     items\u001b[39m=\u001b[39mtab\u001b[39m.\u001b[39;49mcss\u001b[39m.\u001b[39;49mselect(\u001b[39m\"\u001b[39m\u001b[39mdiv.wds-tab__content > ul > li\u001b[39m\u001b[39m\"\u001b[39m)\n\u001b[0;32m     <a href='vscode-notebook-cell:/c%3A/Projects/4DotNet/DevDay2023/Labs/Magic%20Potions/extract-potions.ipynb#W0sZmlsZQ%3D%3D?line=18'>19</a>\u001b[0m     \u001b[39mfor\u001b[39;00m item \u001b[39min\u001b[39;00m items:\n\u001b[0;32m     <a href='vscode-notebook-cell:/c%3A/Projects/4DotNet/DevDay2023/Labs/Magic%20Potions/extract-potions.ipynb#W0sZmlsZQ%3D%3D?line=19'>20</a>\u001b[0m         removeCitations(item)\n",
      "\u001b[1;31mAttributeError\u001b[0m: 'NoneType' object has no attribute 'select'"
     ]
    }
   ],
   "source": [
    "# pip install beautifulsoup4\n",
    "\n",
    "# Scrape a list of potions\n",
    "\n",
    "import requests\n",
    "from bs4 import BeautifulSoup\n",
    "\n",
    "def removeCitations(tag):\n",
    "    for sup in tag.find_all('sup'):\n",
    "            sup.extract()\n",
    "\n",
    "\n",
    "def extractList(html):\n",
    "    tab_elements = html.find_all(\"div\", class_='tabber')\n",
    "\n",
    "    listItems=[]\n",
    "    for tab in tab_elements:\n",
    "        items=tab.css.select(\"div.wds-tab__content > ul > li\")\n",
    "        for item in items:\n",
    "            removeCitations(item)\n",
    "            link = item.find('a')\n",
    "            if( link ):\n",
    "                description = item.css.select('ul > li')\n",
    "                listItems.append({'name':link.text, 'link': link[\"href\"], 'description':  description[0].get_text() if len(description)>0 else '' })\n",
    "\n",
    "    return listItems\n",
    "\n",
    "baseUrl = \"https://harrypotter.fandom.com\"\n",
    "potionsUrl = \"/wiki/List_of_potions\"\n",
    "\n",
    "page = requests.get(baseUrl+potionsUrl)\n",
    "soup = BeautifulSoup(page.content, \"html.parser\")\n",
    "\n",
    "potions=extractList(soup)\n",
    "print(\"-- Potions --\")\n",
    "for x in range(len(potions)):\n",
    "    print(potions[x])\n",
    "\n"
   ]
  },
  {
   "cell_type": "code",
   "execution_count": null,
   "metadata": {},
   "outputs": [],
   "source": [
    "# grab potion details\n",
    "for potion in potions:\n",
    "    print(potion['name'])\n",
    "    potionPage = requests.get(baseUrl+potion['link'])\n",
    "    html = BeautifulSoup(potionPage.content, \"html.parser\")\n",
    "\n",
    "    potionInfoItems = html.find_all('div', class_='pi-item')\n",
    "\n",
    "    recipeHeader = html.find(id='Recipe')\n",
    "    if( recipeHeader ):\n",
    "        steps=[]\n",
    "        for valueItem in recipeHeader.find_parent('h2').find_next('ol').find_all('li'):\n",
    "           steps.append(valueItem.get_text())\n",
    "        potion['recipe']=steps\n",
    "\n",
    "    for potionInfo in potionInfoItems:\n",
    "        removeCitations(potionInfo)\n",
    "        propertyName=potionInfo['data-source']\n",
    "        propertyValue=potionInfo.css.select_one('div.pi-data-value')\n",
    "\n",
    "        valueList = propertyValue.css.select_one('ul')\n",
    "        if( valueList ):\n",
    "            values=[]\n",
    "            for valueItem in valueList.find_all('li'):\n",
    "                values.append(valueItem.get_text())\n",
    "            potion[propertyName]=values    \n",
    "        else:\n",
    "            potion[propertyName]=propertyValue.get_text()\n",
    "\n",
    "import json\n",
    "\n",
    "SAVE_PATH = \"data/potions.json\"\n",
    "with open(SAVE_PATH, 'w') as f:\n",
    "    json.dump(potions, f)\n"
   ]
  }
 ],
 "metadata": {
  "kernelspec": {
   "display_name": "Python 3",
   "language": "python",
   "name": "python3"
  },
  "language_info": {
   "codemirror_mode": {
    "name": "ipython",
    "version": 3
   },
   "file_extension": ".py",
   "mimetype": "text/x-python",
   "name": "python",
   "nbconvert_exporter": "python",
   "pygments_lexer": "ipython3",
   "version": "3.10.11"
  }
 },
 "nbformat": 4,
 "nbformat_minor": 2
}
